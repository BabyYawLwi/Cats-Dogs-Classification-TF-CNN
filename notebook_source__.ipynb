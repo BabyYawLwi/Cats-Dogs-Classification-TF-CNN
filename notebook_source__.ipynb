{
 "cells": [
  {
   "cell_type": "code",
   "execution_count": 8,
   "metadata": {
    "_cell_guid": "b1076dfc-b9ad-4769-8c92-a6c4dae69d19",
    "_uuid": "8f2839f25d086af736a60e9eeb907d3b93b6e0e5"
   },
   "outputs": [
    {
     "data": {
      "text/plain": [
       "\"\\nfor dirname, _, filenames in os.walk('/kaggle/input'):\\n    for filename in filenames:\\n        print(os.path.join(dirname, filename))\\n\""
      ]
     },
     "execution_count": 8,
     "metadata": {},
     "output_type": "execute_result"
    }
   ],
   "source": [
    "# This Python 3 environment comes with many helpful analytics libraries installed\n",
    "# It is defined by the kaggle/python docker image: https://github.com/kaggle/docker-python\n",
    "# For example, here's several helpful packages to load in \n",
    "\n",
    "import numpy as np # linear algebra\n",
    "import pandas as pd # data processing, CSV file I/O (e.g. pd.read_csv)\n",
    "\n",
    "# Input data files are available in the \"../input/\" directory.\n",
    "# For example, running this (by clicking run or pressing Shift+Enter) will list all files under the input directory\n",
    "\n",
    "import os\n",
    "\"\"\"\n",
    "for dirname, _, filenames in os.walk('/kaggle/input'):\n",
    "    for filename in filenames:\n",
    "        print(os.path.join(dirname, filename))\n",
    "\"\"\"\n",
    "# Any results you write to the current directory are saved as output."
   ]
  },
  {
   "cell_type": "code",
   "execution_count": 9,
   "metadata": {},
   "outputs": [
    {
     "data": {
      "text/plain": [
       "'2.1.0'"
      ]
     },
     "execution_count": 9,
     "metadata": {},
     "output_type": "execute_result"
    }
   ],
   "source": [
    "import tensorflow as tf\n",
    "\n",
    "tf.__version__"
   ]
  },
  {
   "cell_type": "code",
   "execution_count": 10,
   "metadata": {},
   "outputs": [],
   "source": [
    "#Part 1-Building CNN\n",
    "from tensorflow.keras.models import Sequential\n",
    "from tensorflow.keras.layers import Conv2D\n",
    "from tensorflow.keras.layers import MaxPooling2D\n",
    "from tensorflow.keras.layers import Flatten\n",
    "from tensorflow.keras.layers import Dense\n",
    "from tensorflow.keras.layers import Dropout\n",
    "\n",
    "#Initializing CNN\n",
    "classifier = Sequential()\n",
    "\n",
    "#Step 1-Convolution\n",
    "classifier.add(Conv2D(32,(3,3),input_shape=(128,128,3),activation='relu'))\n",
    "#Step 2-Pooling\n",
    "classifier.add(MaxPooling2D(pool_size=(2,2)))\n",
    "\n",
    "classifier.add(Conv2D(64,(3,3),activation='relu'))\n",
    "classifier.add(MaxPooling2D(pool_size=(2,2)))\n",
    "classifier.add(Dropout(0.5))\n",
    "\n",
    "classifier.add(Conv2D(128,(3,3),activation='relu'))\n",
    "classifier.add(MaxPooling2D(pool_size=(2,2)))\n",
    "classifier.add(Dropout(0.5))\n",
    "\n",
    "#Step 3-Flattening\n",
    "classifier.add(Flatten())\n",
    "\n",
    "#Step 4-Full connection\n",
    "classifier.add(Dense(128, activation='relu'))\n",
    "classifier.add(Dense(1, activation='sigmoid'))"
   ]
  },
  {
   "cell_type": "code",
   "execution_count": 11,
   "metadata": {},
   "outputs": [],
   "source": [
    "#Compiling CNN\n",
    "classifier.compile(optimizer='adam',loss='binary_crossentropy',metrics=['accuracy'])"
   ]
  },
  {
   "cell_type": "code",
   "execution_count": 12,
   "metadata": {},
   "outputs": [
    {
     "name": "stdout",
     "output_type": "stream",
     "text": [
      "Found 8000 images belonging to 2 classes.\n",
      "Found 2000 images belonging to 2 classes.\n"
     ]
    }
   ],
   "source": [
    "#Part 2-Fitting CNN to images\n",
    "from keras.preprocessing.image import ImageDataGenerator\n",
    "train_datagen = ImageDataGenerator(\n",
    "        rescale=1./255,\n",
    "        shear_range=0.2,\n",
    "        zoom_range=0.2,\n",
    "        horizontal_flip=True\n",
    ")\n",
    "\n",
    "test_datagen = ImageDataGenerator(rescale=1./255)\n",
    "\n",
    "training_set = train_datagen.flow_from_directory('/kaggle/input/dogs-cats-images/dog vs cat/dataset/training_set',\n",
    "                                                 target_size=(128, 128), \n",
    "                                                 batch_size=32,#32\n",
    "                                                 class_mode='binary')\n",
    "\n",
    "test_set = test_datagen.flow_from_directory('/kaggle/input/dogs-cats-images/dog vs cat/dataset/test_set',\n",
    "                                             target_size=(128, 128),\n",
    "                                             batch_size=32,#32\n",
    "                                             class_mode='binary')"
   ]
  },
  {
   "cell_type": "markdown",
   "metadata": {},
   "source": [
    "# Early stopping"
   ]
  },
  {
   "cell_type": "code",
   "execution_count": 13,
   "metadata": {},
   "outputs": [],
   "source": [
    "from keras.callbacks import EarlyStopping, ModelCheckpoint\n",
    "\n",
    "checkpoint_path = '/kaggle/working/best_dogs_cats_model.h5'\n",
    "\n",
    "callbacks = [EarlyStopping(monitor='val_loss', patience=8, mode='min',restore_best_weights=True),\n",
    "             ModelCheckpoint(filepath=checkpoint_path, monitor='val_loss', save_best_only=True, mode='min')]"
   ]
  },
  {
   "cell_type": "code",
   "execution_count": 14,
   "metadata": {},
   "outputs": [
    {
     "name": "stdout",
     "output_type": "stream",
     "text": [
      "Train for 250 steps, validate for 63 steps\n",
      "Epoch 1/40\n",
      "250/250 [==============================] - 67s 268ms/step - loss: 0.7020 - accuracy: 0.5201 - val_loss: 0.6930 - val_accuracy: 0.5075\n",
      "Epoch 2/40\n",
      "250/250 [==============================] - 53s 214ms/step - loss: 0.6872 - accuracy: 0.5385 - val_loss: 0.6815 - val_accuracy: 0.5785\n",
      "Epoch 3/40\n",
      "250/250 [==============================] - 53s 212ms/step - loss: 0.6599 - accuracy: 0.6104 - val_loss: 0.6081 - val_accuracy: 0.6790\n",
      "Epoch 4/40\n",
      "250/250 [==============================] - 53s 213ms/step - loss: 0.6088 - accuracy: 0.6658 - val_loss: 0.5572 - val_accuracy: 0.7170\n",
      "Epoch 5/40\n",
      "250/250 [==============================] - 53s 212ms/step - loss: 0.5711 - accuracy: 0.7016 - val_loss: 0.5296 - val_accuracy: 0.7455\n",
      "Epoch 6/40\n",
      "250/250 [==============================] - 54s 215ms/step - loss: 0.5382 - accuracy: 0.7205 - val_loss: 0.5119 - val_accuracy: 0.7510\n",
      "Epoch 7/40\n",
      "250/250 [==============================] - 53s 213ms/step - loss: 0.5003 - accuracy: 0.7520 - val_loss: 0.4841 - val_accuracy: 0.7660\n",
      "Epoch 8/40\n",
      "250/250 [==============================] - 53s 213ms/step - loss: 0.4794 - accuracy: 0.7667 - val_loss: 0.4586 - val_accuracy: 0.8040\n",
      "Epoch 9/40\n",
      "250/250 [==============================] - 54s 214ms/step - loss: 0.4656 - accuracy: 0.7786 - val_loss: 0.4392 - val_accuracy: 0.8015\n",
      "Epoch 10/40\n",
      "250/250 [==============================] - 53s 213ms/step - loss: 0.4472 - accuracy: 0.7900 - val_loss: 0.4305 - val_accuracy: 0.8030\n",
      "Epoch 11/40\n",
      "250/250 [==============================] - 53s 214ms/step - loss: 0.4275 - accuracy: 0.7977 - val_loss: 0.4207 - val_accuracy: 0.8190\n",
      "Epoch 12/40\n",
      "250/250 [==============================] - 53s 212ms/step - loss: 0.4171 - accuracy: 0.8085 - val_loss: 0.4139 - val_accuracy: 0.8160\n",
      "Epoch 13/40\n",
      "250/250 [==============================] - 53s 210ms/step - loss: 0.4081 - accuracy: 0.8117 - val_loss: 0.3893 - val_accuracy: 0.8390\n",
      "Epoch 14/40\n",
      "250/250 [==============================] - 53s 212ms/step - loss: 0.4021 - accuracy: 0.8138 - val_loss: 0.3849 - val_accuracy: 0.8355\n",
      "Epoch 15/40\n",
      "250/250 [==============================] - 54s 214ms/step - loss: 0.3899 - accuracy: 0.8179 - val_loss: 0.3957 - val_accuracy: 0.8285\n",
      "Epoch 16/40\n",
      "250/250 [==============================] - 53s 213ms/step - loss: 0.3776 - accuracy: 0.8253 - val_loss: 0.3675 - val_accuracy: 0.8460\n",
      "Epoch 17/40\n",
      "250/250 [==============================] - 53s 214ms/step - loss: 0.3725 - accuracy: 0.8339 - val_loss: 0.3918 - val_accuracy: 0.8300\n",
      "Epoch 18/40\n",
      "250/250 [==============================] - 53s 212ms/step - loss: 0.3743 - accuracy: 0.8325 - val_loss: 0.3967 - val_accuracy: 0.8365\n",
      "Epoch 19/40\n",
      "250/250 [==============================] - 53s 213ms/step - loss: 0.3510 - accuracy: 0.8413 - val_loss: 0.3828 - val_accuracy: 0.8350\n",
      "Epoch 20/40\n",
      "250/250 [==============================] - 53s 214ms/step - loss: 0.3437 - accuracy: 0.8430 - val_loss: 0.3654 - val_accuracy: 0.8405\n",
      "Epoch 21/40\n",
      "250/250 [==============================] - 53s 212ms/step - loss: 0.3385 - accuracy: 0.8486 - val_loss: 0.3629 - val_accuracy: 0.8465\n",
      "Epoch 22/40\n",
      "250/250 [==============================] - 53s 210ms/step - loss: 0.3344 - accuracy: 0.8515 - val_loss: 0.3800 - val_accuracy: 0.8340\n",
      "Epoch 23/40\n",
      "250/250 [==============================] - 53s 211ms/step - loss: 0.3308 - accuracy: 0.8541 - val_loss: 0.3744 - val_accuracy: 0.8425\n",
      "Epoch 24/40\n",
      "250/250 [==============================] - 53s 213ms/step - loss: 0.3225 - accuracy: 0.8609 - val_loss: 0.3704 - val_accuracy: 0.8365\n",
      "Epoch 25/40\n",
      "250/250 [==============================] - 53s 214ms/step - loss: 0.3211 - accuracy: 0.8570 - val_loss: 0.3531 - val_accuracy: 0.8530\n",
      "Epoch 26/40\n",
      "250/250 [==============================] - 53s 212ms/step - loss: 0.3074 - accuracy: 0.8686 - val_loss: 0.3636 - val_accuracy: 0.8450\n",
      "Epoch 27/40\n",
      "250/250 [==============================] - 53s 214ms/step - loss: 0.3081 - accuracy: 0.8652 - val_loss: 0.3526 - val_accuracy: 0.8510\n",
      "Epoch 28/40\n",
      "250/250 [==============================] - 53s 213ms/step - loss: 0.3044 - accuracy: 0.8640 - val_loss: 0.3515 - val_accuracy: 0.8510\n",
      "Epoch 29/40\n",
      "250/250 [==============================] - 53s 213ms/step - loss: 0.2883 - accuracy: 0.8744 - val_loss: 0.3689 - val_accuracy: 0.8500\n",
      "Epoch 30/40\n",
      "250/250 [==============================] - 53s 211ms/step - loss: 0.2975 - accuracy: 0.8692 - val_loss: 0.3545 - val_accuracy: 0.8535\n",
      "Epoch 31/40\n",
      "250/250 [==============================] - 52s 209ms/step - loss: 0.2820 - accuracy: 0.8802 - val_loss: 0.3627 - val_accuracy: 0.8560\n",
      "Epoch 32/40\n",
      "250/250 [==============================] - 53s 211ms/step - loss: 0.2739 - accuracy: 0.8790 - val_loss: 0.3915 - val_accuracy: 0.8385\n",
      "Epoch 33/40\n",
      "250/250 [==============================] - 53s 214ms/step - loss: 0.2752 - accuracy: 0.8815 - val_loss: 0.3343 - val_accuracy: 0.8600\n",
      "Epoch 34/40\n",
      "250/250 [==============================] - 53s 211ms/step - loss: 0.2705 - accuracy: 0.8852 - val_loss: 0.3704 - val_accuracy: 0.8460\n",
      "Epoch 35/40\n",
      "250/250 [==============================] - 53s 212ms/step - loss: 0.2722 - accuracy: 0.8809 - val_loss: 0.3707 - val_accuracy: 0.8525\n",
      "Epoch 36/40\n",
      "250/250 [==============================] - 53s 212ms/step - loss: 0.2692 - accuracy: 0.8867 - val_loss: 0.3620 - val_accuracy: 0.8430\n",
      "Epoch 37/40\n",
      "250/250 [==============================] - 53s 212ms/step - loss: 0.2629 - accuracy: 0.8861 - val_loss: 0.3620 - val_accuracy: 0.8560\n",
      "Epoch 38/40\n",
      "250/250 [==============================] - 53s 212ms/step - loss: 0.2502 - accuracy: 0.8942 - val_loss: 0.3599 - val_accuracy: 0.8490\n",
      "Epoch 39/40\n",
      "250/250 [==============================] - 53s 210ms/step - loss: 0.2534 - accuracy: 0.8874 - val_loss: 0.4138 - val_accuracy: 0.8275\n",
      "Epoch 40/40\n",
      "250/250 [==============================] - 53s 210ms/step - loss: 0.2489 - accuracy: 0.8988 - val_loss: 0.3618 - val_accuracy: 0.8540\n"
     ]
    },
    {
     "data": {
      "text/plain": [
       "<tensorflow.python.keras.callbacks.History at 0x7fbf19119b38>"
      ]
     },
     "execution_count": 14,
     "metadata": {},
     "output_type": "execute_result"
    }
   ],
   "source": [
    "classifier.fit_generator(training_set,\n",
    "                         steps_per_epoch=250,#8000\n",
    "                         epochs=40,#15\n",
    "                         callbacks=callbacks,\n",
    "                         validation_data=test_set,\n",
    "                         validation_steps=63)#2000"
   ]
  },
  {
   "cell_type": "code",
   "execution_count": 17,
   "metadata": {},
   "outputs": [],
   "source": [
    "!pip install jovian --upgrade --quiet"
   ]
  },
  {
   "cell_type": "code",
   "execution_count": 18,
   "metadata": {},
   "outputs": [
    {
     "data": {
      "application/javascript": [
       "if (window.IPython && IPython.notebook.kernel) IPython.notebook.kernel.execute('jovian.utils.jupyter.get_notebook_name_saved = lambda: \"' + IPython.notebook.notebook_name + '\"')"
      ],
      "text/plain": [
       "<IPython.core.display.Javascript object>"
      ]
     },
     "metadata": {},
     "output_type": "display_data"
    }
   ],
   "source": [
    "import jovian"
   ]
  },
  {
   "cell_type": "code",
   "execution_count": null,
   "metadata": {},
   "outputs": [
    {
     "data": {
      "application/javascript": [
       "window.require && require([\"base/js/namespace\"],function(Jupyter){Jupyter.notebook.save_checkpoint()})"
      ],
      "text/plain": [
       "<IPython.core.display.Javascript object>"
      ]
     },
     "metadata": {},
     "output_type": "display_data"
    },
    {
     "name": "stdout",
     "output_type": "stream",
     "text": [
      "[jovian] Attempting to save notebook..\n"
     ]
    }
   ],
   "source": [
    "jovian.commit()"
   ]
  },
  {
   "cell_type": "code",
   "execution_count": null,
   "metadata": {},
   "outputs": [],
   "source": []
  }
 ],
 "metadata": {
  "kernelspec": {
   "display_name": "Python 3",
   "language": "python",
   "name": "python3"
  },
  "language_info": {
   "codemirror_mode": {
    "name": "ipython",
    "version": 3
   },
   "file_extension": ".py",
   "mimetype": "text/x-python",
   "name": "python",
   "nbconvert_exporter": "python",
   "pygments_lexer": "ipython3",
   "version": "3.6.4"
  }
 },
 "nbformat": 4,
 "nbformat_minor": 4
}
